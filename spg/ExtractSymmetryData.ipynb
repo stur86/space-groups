{
 "cells": [
  {
   "cell_type": "code",
   "execution_count": 1,
   "metadata": {},
   "outputs": [],
   "source": [
    "import json\n",
    "import numpy as np\n",
    "import spglib as spg"
   ]
  },
  {
   "cell_type": "code",
   "execution_count": 2,
   "metadata": {},
   "outputs": [],
   "source": [
    "data = {}\n",
    "for hno in range(1, 531):\n",
    "    sdata = spg.get_spacegroup_type(hno)\n",
    "    intsym = sdata['international_short']\n",
    "    data[hno] = {'spg': sdata}\n",
    "    data[hno]['ops'] = [a.tolist() for a in spg.get_symmetry_from_database(hno).values()]"
   ]
  },
  {
   "cell_type": "code",
   "execution_count": 3,
   "metadata": {},
   "outputs": [],
   "source": [
    "# Now establish a hierarchy\n",
    "cmat = np.zeros((530, 530)).astype(int)\n",
    "\n",
    "opsets = []\n",
    "for hno, d in data.items():\n",
    "    R = d['ops'][0]\n",
    "    T = d['ops'][1]\n",
    "    \n",
    "    opsets.append(set([(tuple(np.array(r).reshape(-1)), tuple(t)) for r, t in zip(R, T)]))\n",
    "\n",
    "for i1, s1 in enumerate(opsets):\n",
    "    sl = 0\n",
    "    for i2, s2 in enumerate(opsets[i1+1:]):\n",
    "        if s2.issuperset(s1):\n",
    "            cmat[i1, i1+i2+1] = 1\n",
    "            sl += 1\n",
    "\n",
    "sublv = np.sum(cmat, axis=1)"
   ]
  },
  {
   "cell_type": "code",
   "execution_count": 4,
   "metadata": {},
   "outputs": [],
   "source": [
    "# Split them by levels\n",
    "layers = []\n",
    "layerno = np.zeros(530).astype(int)\n",
    "for i, n in enumerate(sorted(list(set(sublv)))):\n",
    "    inds = np.where(sublv == n)[0]\n",
    "    layers.append(inds)\n",
    "    layerno[inds] = i"
   ]
  },
  {
   "cell_type": "code",
   "execution_count": 9,
   "metadata": {},
   "outputs": [],
   "source": [
    "# Find the connections\n",
    "tree = [{'children': [], 'parent': None} for i in range(530)]\n",
    "for i, l in enumerate(layers):\n",
    "    for i1 in l:\n",
    "        supersets = np.where(cmat[:,i1] > 0)[0]\n",
    "        if len(supersets) > 0:\n",
    "            p = supersets[np.argmin(layerno[supersets])]\n",
    "            tree[i1]['parent'] = int(p)+1\n",
    "            tree[p]['children'].append(int(i1)+1)"
   ]
  },
  {
   "cell_type": "code",
   "execution_count": 10,
   "metadata": {},
   "outputs": [],
   "source": [
    "# Save all the data\n",
    "for hno, d in data.items():\n",
    "    d['children'] = tree[hno-1]['children']\n",
    "    d['parent'] = tree[hno-1]['parent']"
   ]
  },
  {
   "cell_type": "code",
   "execution_count": 11,
   "metadata": {},
   "outputs": [],
   "source": [
    "json.dump(data, open('../data/spgtree.json', 'w'))"
   ]
  },
  {
   "cell_type": "code",
   "execution_count": null,
   "metadata": {},
   "outputs": [],
   "source": []
  }
 ],
 "metadata": {
  "kernelspec": {
   "display_name": "Python 3",
   "language": "python",
   "name": "python3"
  },
  "language_info": {
   "codemirror_mode": {
    "name": "ipython",
    "version": 3
   },
   "file_extension": ".py",
   "mimetype": "text/x-python",
   "name": "python",
   "nbconvert_exporter": "python",
   "pygments_lexer": "ipython3",
   "version": "3.6.8"
  }
 },
 "nbformat": 4,
 "nbformat_minor": 2
}
