{
 "cells": [
  {
   "cell_type": "code",
   "execution_count": 1,
   "metadata": {},
   "outputs": [],
   "source": [
    "import json\n",
    "import numpy as np\n",
    "import spglib as spg"
   ]
  },
  {
   "cell_type": "code",
   "execution_count": 2,
   "metadata": {},
   "outputs": [],
   "source": [
    "data = {}\n",
    "for hno in range(1, 531):\n",
    "    sdata = spg.get_spacegroup_type(hno)\n",
    "    intsym = sdata['international_short']\n",
    "    data[hno] = {'spg': sdata}\n",
    "    data[hno]['ops'] = [a.tolist() for a in spg.get_symmetry_from_database(hno).values()]"
   ]
  },
  {
   "cell_type": "code",
   "execution_count": 3,
   "metadata": {},
   "outputs": [],
   "source": [
    "# Now establish a hierarchy\n",
    "cmat = np.zeros((530, 530)).astype(int)\n",
    "\n",
    "opsets = []\n",
    "for hno, d in data.items():\n",
    "    R = d['ops'][0]\n",
    "    T = d['ops'][1]\n",
    "    \n",
    "    opsets.append(set([(tuple(np.array(r).reshape(-1)), tuple(t)) for r, t in zip(R, T)]))\n",
    "\n",
    "for i1, s1 in enumerate(opsets):\n",
    "    sl = 0\n",
    "    for i2, s2 in enumerate(opsets[i1+1:]):\n",
    "        if s2.issuperset(s1):\n",
    "            cmat[i1, i1+i2+1] = 1\n",
    "            sl += 1\n",
    "\n",
    "sublv = np.sum(cmat, axis=1)"
   ]
  },
  {
   "cell_type": "code",
   "execution_count": 4,
   "metadata": {},
   "outputs": [],
   "source": [
    "# Split them by levels\n",
    "layers = []\n",
    "layerno = np.zeros(530).astype(int)\n",
    "for i, n in enumerate(sorted(list(set(sublv)))):\n",
    "    inds = np.where(sublv == n)[0]\n",
    "    layers.append(inds)\n",
    "    layerno[inds] = i"
   ]
  },
  {
   "cell_type": "code",
   "execution_count": 6,
   "metadata": {},
   "outputs": [],
   "source": [
    "# Find the connections\n",
    "tree = [{'children': [], 'parent': None} for i in range(530)]\n",
    "for i, l in enumerate(layers):\n",
    "    for i1 in l:\n",
    "        supersets = np.where(cmat[:,i1] > 0)[0]\n",
    "        if len(supersets) > 0:\n",
    "            p = supersets[np.argmin(layerno[supersets])]\n",
    "            tree[i1]['parent'] = int(p)\n",
    "            tree[p]['children'].append(int(i1))"
   ]
  },
  {
   "cell_type": "code",
   "execution_count": 7,
   "metadata": {},
   "outputs": [
    {
     "ename": "TypeError",
     "evalue": "can only concatenate list (not \"int\") to list",
     "output_type": "error",
     "traceback": [
      "\u001b[0;31m---------------------------------------------------------------------------\u001b[0m",
      "\u001b[0;31mTypeError\u001b[0m                                 Traceback (most recent call last)",
      "\u001b[0;32m<ipython-input-7-a5ee4db2f586>\u001b[0m in \u001b[0;36m<module>\u001b[0;34m\u001b[0m\n\u001b[1;32m      1\u001b[0m \u001b[0;31m# Save all the data\u001b[0m\u001b[0;34m\u001b[0m\u001b[0;34m\u001b[0m\u001b[0;34m\u001b[0m\u001b[0m\n\u001b[1;32m      2\u001b[0m \u001b[0;32mfor\u001b[0m \u001b[0mhno\u001b[0m\u001b[0;34m,\u001b[0m \u001b[0md\u001b[0m \u001b[0;32min\u001b[0m \u001b[0mdata\u001b[0m\u001b[0;34m.\u001b[0m\u001b[0mitems\u001b[0m\u001b[0;34m(\u001b[0m\u001b[0;34m)\u001b[0m\u001b[0;34m:\u001b[0m\u001b[0;34m\u001b[0m\u001b[0;34m\u001b[0m\u001b[0m\n\u001b[0;32m----> 3\u001b[0;31m     \u001b[0md\u001b[0m\u001b[0;34m[\u001b[0m\u001b[0;34m'children'\u001b[0m\u001b[0;34m]\u001b[0m \u001b[0;34m=\u001b[0m \u001b[0mtree\u001b[0m\u001b[0;34m[\u001b[0m\u001b[0mhno\u001b[0m\u001b[0;34m-\u001b[0m\u001b[0;36m1\u001b[0m\u001b[0;34m]\u001b[0m\u001b[0;34m[\u001b[0m\u001b[0;34m'children'\u001b[0m\u001b[0;34m]\u001b[0m\u001b[0;34m+\u001b[0m\u001b[0;36m1\u001b[0m\u001b[0;34m\u001b[0m\u001b[0;34m\u001b[0m\u001b[0m\n\u001b[0m\u001b[1;32m      4\u001b[0m     \u001b[0md\u001b[0m\u001b[0;34m[\u001b[0m\u001b[0;34m'parent'\u001b[0m\u001b[0;34m]\u001b[0m \u001b[0;34m=\u001b[0m \u001b[0mtree\u001b[0m\u001b[0;34m[\u001b[0m\u001b[0mhno\u001b[0m\u001b[0;34m-\u001b[0m\u001b[0;36m1\u001b[0m\u001b[0;34m]\u001b[0m\u001b[0;34m[\u001b[0m\u001b[0;34m'parent'\u001b[0m\u001b[0;34m]\u001b[0m\u001b[0;34m+\u001b[0m\u001b[0;36m1\u001b[0m\u001b[0;34m\u001b[0m\u001b[0;34m\u001b[0m\u001b[0m\n",
      "\u001b[0;31mTypeError\u001b[0m: can only concatenate list (not \"int\") to list"
     ]
    }
   ],
   "source": [
    "# Save all the data\n",
    "for hno, d in data.items():\n",
    "    d['children'] = tree[hno-1]['children']\n",
    "    d['parent'] = tree[hno-1]['parent']"
   ]
  },
  {
   "cell_type": "code",
   "execution_count": 115,
   "metadata": {},
   "outputs": [],
   "source": [
    "json.dump(data, open('../data/spgtree.json', 'w'))"
   ]
  }
 ],
 "metadata": {
  "kernelspec": {
   "display_name": "Python 3",
   "language": "python",
   "name": "python3"
  },
  "language_info": {
   "codemirror_mode": {
    "name": "ipython",
    "version": 3
   },
   "file_extension": ".py",
   "mimetype": "text/x-python",
   "name": "python",
   "nbconvert_exporter": "python",
   "pygments_lexer": "ipython3",
   "version": "3.6.8"
  }
 },
 "nbformat": 4,
 "nbformat_minor": 2
}
